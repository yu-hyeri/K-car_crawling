{
 "cells": [
  {
   "cell_type": "code",
   "execution_count": 6,
   "id": "caa43583-7d5e-4bc5-bc42-095e5703f885",
   "metadata": {},
   "outputs": [
    {
     "name": "stdout",
     "output_type": "stream",
     "text": [
      "Collecting konlpy\n",
      "  Downloading konlpy-0.6.0-py2.py3-none-any.whl.metadata (1.9 kB)\n",
      "Collecting JPype1>=0.7.0 (from konlpy)\n",
      "  Downloading JPype1-1.5.0-cp311-cp311-macosx_10_9_universal2.whl.metadata (4.9 kB)\n",
      "Requirement already satisfied: lxml>=4.1.0 in /opt/anaconda3/lib/python3.11/site-packages (from konlpy) (4.9.3)\n",
      "Requirement already satisfied: numpy>=1.6 in /opt/anaconda3/lib/python3.11/site-packages (from konlpy) (1.26.4)\n",
      "Requirement already satisfied: packaging in /opt/anaconda3/lib/python3.11/site-packages (from JPype1>=0.7.0->konlpy) (23.1)\n",
      "Downloading konlpy-0.6.0-py2.py3-none-any.whl (19.4 MB)\n",
      "\u001b[2K   \u001b[90m━━━━━━━━━━━━━━━━━━━━━━━━━━━━━━━━━━━━━━━━\u001b[0m \u001b[32m19.4/19.4 MB\u001b[0m \u001b[31m35.4 MB/s\u001b[0m eta \u001b[36m0:00:00\u001b[0m00:01\u001b[0m00:01\u001b[0m\n",
      "\u001b[?25hDownloading JPype1-1.5.0-cp311-cp311-macosx_10_9_universal2.whl (587 kB)\n",
      "\u001b[2K   \u001b[90m━━━━━━━━━━━━━━━━━━━━━━━━━━━━━━━━━━━━━━━━\u001b[0m \u001b[32m587.4/587.4 kB\u001b[0m \u001b[31m41.7 MB/s\u001b[0m eta \u001b[36m0:00:00\u001b[0m\n",
      "\u001b[?25hInstalling collected packages: JPype1, konlpy\n",
      "Successfully installed JPype1-1.5.0 konlpy-0.6.0\n",
      "Note: you may need to restart the kernel to use updated packages.\n"
     ]
    }
   ],
   "source": [
    "pip install konlpy\n"
   ]
  },
  {
   "cell_type": "code",
   "execution_count": 8,
   "id": "75d56fa7-9e65-40ea-99f1-a56de70bbae1",
   "metadata": {},
   "outputs": [],
   "source": [
    "from selenium import webdriver\n",
    "from selenium.webdriver.common.by import By\n",
    "from bs4 import BeautifulSoup\n",
    "from datetime import datetime\n",
    "import requests\n",
    "import pandas as pd\n",
    "import konlpy\n",
    "import matplotlib.pyplot as plt\n",
    "import seaborn as sns\n",
    "import time\n",
    "import os\n"
   ]
  },
  {
   "cell_type": "code",
   "execution_count": 10,
   "id": "9f75af71-2626-4cc7-a243-867d6c6b319f",
   "metadata": {},
   "outputs": [],
   "source": [
    "#################### 함수 선언\n",
    "def infinite_loop(browser, sleepDelay):\n",
    "    # 최초 페이지 스크롤 설정\n",
    "    # 스크롤 시키지 않았을 때의 전체 높이\n",
    "    last_page_height = browser.execute_script(\"return document.documentElement.scrollHeight\")\n",
    "\n",
    "    while True:\n",
    "        # 윈도우 창을 0에서 위에서 설정한 전체 높이로 이동\n",
    "        browser.execute_script(\"window.scrollTo(0, document.documentElement.scrollHeight);\")\n",
    "        time.sleep(sleepDelay)\n",
    "        # 스크롤 다운한 만큼의 높이를 신규 높이로 설정 \n",
    "        new_page_height = browser.execute_script(\"return document.documentElement.scrollHeight\")\n",
    "        # 직전 페이지 높이와 신규 페이지 높이 비교\n",
    "        if new_page_height == last_page_height:\n",
    "            time.sleep(sleepDelay)\n",
    "            # 신규 페이지 높이가 이전과 동일하면, while문 break\n",
    "            if new_page_height == browser.execute_script(\"return document.documentElement.scrollHeight\"):\n",
    "                break\n",
    "        else:\n",
    "            last_page_height = new_page_height\n",
    "\n",
    "def log_check(f, str):\n",
    "    now = datetime.now()\n",
    "    f_str = f\"{now}    {str}\"\n",
    "    f.write(f_str + \"\\n\")\n",
    "    print(f_str)"
   ]
  },
  {
   "cell_type": "code",
   "execution_count": 12,
   "id": "891eedb9-2eab-42e1-916d-56f57aff2a24",
   "metadata": {},
   "outputs": [
    {
     "data": {
      "text/plain": [
       "49"
      ]
     },
     "execution_count": 12,
     "metadata": {},
     "output_type": "execute_result"
    }
   ],
   "source": [
    "#################### 1. 검색단어, 검색기간 및 기타 파라미터 설정\n",
    "current_path = os.getcwd()\n",
    "\n",
    "search_word = \"케이카 구매 후기\"\n",
    "start_date = \"20181001\" #yyyymmdd 형식\n",
    "end_date  = \"20240729\" #yyyymmdd 형식\n",
    "\n",
    "# 출처: 블로그\n",
    "# 정렬: 관련도순\n",
    "target_url = f\"https://search.naver.com/search.naver?ssc=tab.blog.all&sm=tab_jum&query=%EC%BC%80%EC%9D%B4%EC%B9%B4+%EA%B5%AC%EB%A7%A4+%ED%9B%84%EA%B8%B0\"\n",
    "\n",
    "\n",
    "sleepDelay = 1.5\n",
    "\n",
    "\n",
    "\n",
    "frist_url_list = [] # 1차로 검색 후 모든 blog에 대해 url을 수집함.\n",
    "\n",
    "\n",
    "df_text = pd.DataFrame(columns=['date', 'url', 'title', 'text']) \n",
    "df_idx = 0\n",
    "# date: 네이버 블로그 글 생성 날짜\n",
    "# url: 스크래핑한 url\n",
    "# title: 스크래핑한 url 내 블로그 제목\n",
    "# text: 스크래핑한 url 내 블로그 내용\n",
    "\n",
    "\n",
    "today = f\"{datetime.now().year}{datetime.now().month}{datetime.now().day}\"\n",
    "# log파일\n",
    "f = open(f'{current_path}\\\\crawler_log_{today}.txt', 'w')\n",
    "f.write(f\"[크롤링 파라미터]\" + '\\n')\n",
    "f.write(f\"검색 단어: {search_word}\" + '\\n')\n",
    "f.write(f\"검색 시작일: {start_date}\" + '\\n')\n",
    "f.write(f\"검색 종료일: {end_date}\" + '\\n')\n",
    "f.write(\"================================================\" + '\\n')"
   ]
  },
  {
   "cell_type": "code",
   "execution_count": 14,
   "id": "9ec14557-ddee-4c58-bee1-e51d5fc75870",
   "metadata": {},
   "outputs": [
    {
     "name": "stdout",
     "output_type": "stream",
     "text": [
      "2024-07-30 16:07:30.055697    크롤링 시작\n",
      "2024-07-30 16:07:33.411476    검색결과 최하단 이동\n",
      "2024-07-30 16:07:39.487829    url수집 시작\n",
      "2024-07-30 16:07:47.022929    url수집 완료. 전체 0개의 url\n",
      "2024-07-30 16:07:47.038673    url csv 생성 완료\n"
     ]
    }
   ],
   "source": [
    "#################### 2. 검색단어, 검색기간을 기준으로 검색 진행 ~ # 3. 검색에 나온 blog url 수집\n",
    "log_check(f, \"크롤링 시작\")\n",
    "browser = webdriver.Chrome()\n",
    "browser.get(target_url)\n",
    "browser.implicitly_wait(sleepDelay * 5)\n",
    "\n",
    "log_check(f, \"검색결과 최하단 이동\")\n",
    "infinite_loop(browser, sleepDelay)\n",
    "\n",
    "\n",
    "log_check(f, \"url수집 시작\")\n",
    "url_table = browser.find_elements(By.CLASS_NAME, 'bx')\n",
    "for i in range(1, len(url_table)):\n",
    "    if i % 1000 == 0: log_check(f, f\"{i}개의 url 수집. 계속해서 수집 진행중\")\n",
    "    try:\n",
    "        url = browser.find_elements(By.CSS_SELECTOR, f'#sp_blog_{str(i)}')[-1].find_element(By.CLASS_NAME, 'title_link').get_attribute('href')\n",
    "        frist_url_list.append(url)\n",
    "    except:\n",
    "        break\n",
    "\n",
    "log_check(f, f\"url수집 완료. 전체 {len(frist_url_list)}개의 url\")\n",
    "df_ful = pd.DataFrame({'url' : frist_url_list})\n",
    "df_ful.to_csv(f'{current_path}\\\\url_list_{today}.csv', index = False, encoding='utf-8-sig') # 크롤링한 url_list\n",
    "log_check(f, \"url csv 생성 완료\")\n",
    "browser.quit()"
   ]
  },
  {
   "cell_type": "code",
   "execution_count": 16,
   "id": "58fa6ea8-2c75-46f4-a406-479a711a522e",
   "metadata": {},
   "outputs": [
    {
     "name": "stdout",
     "output_type": "stream",
     "text": [
      "2024-07-30 16:09:11.837908    수집한 url 경로에 따라 크롤링 시작\n",
      "2024-07-30 16:09:11.838561    url 크롤링 완료\n",
      "2024-07-30 16:09:11.838602    네이버 블로그 크롤링 완전 종료.\n"
     ]
    }
   ],
   "source": [
    "#################### 4. 수집한 blog url을 순회하면서 글생성시간(date), 제목(title), 내용(text)를 수집하여 DataFrame에 저장\n",
    "log_check(f, \"수집한 url 경로에 따라 크롤링 시작\")\n",
    "for idx, url in enumerate(frist_url_list):\n",
    "    m_url = \"https://m.\" + url.replace(\"https://\",\"\") # //blog.naver 의 경우 크롤링을 막아놔서 모바일 경로인 m.으로 우회\n",
    "    res = requests.get(m_url)\n",
    "    res.raise_for_status()\n",
    "    soup = BeautifulSoup(res.text, \"lxml\")\n",
    "\n",
    "    try:\n",
    "        date = soup.find(\"p\", attrs={'class':'blog_date'}).text.rstrip()\n",
    "        title = soup.find(\"span\", attrs={'class':'se-fs- se-ff-'}).text\n",
    "        text = soup.find(\"div\", attrs={'class':'se-main-container'}).text\n",
    "\n",
    "        df_text.loc[df_idx] = [date, url, title, text]\n",
    "        df_idx += 1\n",
    "    except:\n",
    "        continue\n",
    "\n",
    "    if (idx + 1) % 1000 == 0: log_check(f, f\"{idx + 1}개 url 크롤링 완료. 계속해서 크롤링 진행중\")\n",
    "\n",
    "log_check(f, f\"url 크롤링 완료\")\n",
    "log_check(f, f\"네이버 블로그 크롤링 완전 종료.\")\n",
    "f.close()"
   ]
  },
  {
   "cell_type": "code",
   "execution_count": 24,
   "id": "297e4c48-bafc-479d-b0f6-09dfeeca28e7",
   "metadata": {},
   "outputs": [],
   "source": [
    "client_id = \"h3syfFor_zPWGGMAt0kE\"\n",
    "client_secret = \"y51Pjma3v3\"\n",
    "\n",
    "\n",
    "import os\n",
    "import sys\n",
    "import urllib.request\n",
    "import requests\n",
    "\n",
    "url = \"https://openapi.naver.com/v1/search/blog?query=케이카구매후기\"\n",
    "res = requests.get(url, headers = {\n",
    "    \"X-Naver-Client-Id\" : client_id, \n",
    "    \"X-Naver-Client-Secret\" : client_secret\n",
    "    \n",
    "}  )\n",
    "\n",
    "result = res.json()\n"
   ]
  },
  {
   "cell_type": "code",
   "execution_count": 26,
   "id": "0e1a52fd-8a91-4966-a1db-4358f62fe6cb",
   "metadata": {},
   "outputs": [
    {
     "data": {
      "text/plain": [
       "3385"
      ]
     },
     "execution_count": 26,
     "metadata": {},
     "output_type": "execute_result"
    }
   ],
   "source": [
    "result['total']"
   ]
  },
  {
   "cell_type": "code",
   "execution_count": 28,
   "id": "51d8a64c-8c98-47c4-889d-136cec5b720c",
   "metadata": {},
   "outputs": [
    {
     "data": {
      "text/plain": [
       "[{'title': '<b>케이카</b> 중고차 <b>구매</b>조건 더 좋은 카머스 <b>후기</b>',\n",
       "  'link': 'https://blog.naver.com/woochulssa/223526567428',\n",
       "  'description': '남편한테도 100% 가서 봐야된다는 마음가짐으로 한 것이긴 하지만 <b>케이카</b> 중고차 홈서비스 <b>후기</b> 보고 걍 집 앞으로 탁송받자고 함. 저희는 목요일에 차를 <b>구매</b>해서 금요일에 받을수있도로 했는데 금요일이라... ',\n",
       "  'bloggername': '문명의 경향에 달관하여 미래의 추세를 점친다.',\n",
       "  'bloggerlink': 'blog.naver.com/woochulssa',\n",
       "  'postdate': '20240726'},\n",
       " {'title': '<b>케이카</b>(KCAR) 제네시스 DH(G80) <b>구매후기</b>',\n",
       "  'link': 'https://blog.naver.com/blade21/223329423795',\n",
       "  'description': '<b>케이카</b>(KCAR) <b>구매후기</b> 제네시스 DH (G80) <b>구매</b>동기 원래 사용하던 21년식 스팅어를 회사 근무지가 변경됨에 따라 한달 주행거리가 200KM가 되지 않게 되어 판매하게 되었습니다. 한달에 2번정도 주행하는데... ',\n",
       "  'bloggername': '비가와의 비오는 세상',\n",
       "  'bloggerlink': 'blog.naver.com/blade21',\n",
       "  'postdate': '20240121'},\n",
       " {'title': '<b>케이카</b> 레이 내차사기 홈서비스 <b>구매</b>방법 <b>후기</b>, 자동차보험... ',\n",
       "  'link': 'https://blog.naver.com/kjg9288/223387502735',\n",
       "  'description': 'K5 판매 후 매일매일 틈날 때마다 <b>케이카</b>에서 레이를 찾아보았다 내가 원하는 조건은 1. 가격: 1300만 원... 장착 사진 사진 예시 힘들었던 중고차 레이 <b>구매</b>... &lt;<b>구매</b>후 점검<b>후기</b>&gt; https://m.blog.naver.com/kjg9288/223402943831',\n",
       "  'bloggername': '꿀빵부부‘s life diary',\n",
       "  'bloggerlink': 'blog.naver.com/kjg9288',\n",
       "  'postdate': '20240318'},\n",
       " {'title': '<b>케이카</b>에서 중고차 <b>구매</b>, 차 두 번 바꾼 <b>후기</b>',\n",
       "  'link': 'https://blog.naver.com/topann/222805047002',\n",
       "  'description': '<b>케이카</b>에서 17년형 말리부 중고차 <b>구매 후기</b> 남겨봅니다. 중고 말리부는 작년 7월에 1470만원에 <b>구매</b>... 남편믿고 오<b>케이</b>했구요. 실행력갑인 남편은 중고차 매매상에게 바로 전화합니다. 당시 주식장이 좋았던... ',\n",
       "  'bloggername': '별안간애 부라이어티라이프',\n",
       "  'bloggerlink': 'blog.naver.com/topann',\n",
       "  'postdate': '20220709'},\n",
       " {'title': 'F30 BMW 320D LCI 중고차 <b>구매 후기</b>, KCar <b>케이카</b> 안양 직영점... ',\n",
       "  'link': 'https://blog.naver.com/koojawongtr/223320822417',\n",
       "  'description': '차를 <b>구매</b>해 봤는데 다 장단점이 있었고 <b>케이카</b>도 상당히 괜찮았습니다. 특히 중고차에 대해 두려움이... 마이바부를 통한 중고차 동행 서비스 <b>후기</b>는 아래 글 링크 보시면 됩니다. 2024. 01. 12 JW KOO',\n",
       "  'bloggername': 'KOO의 세상사는 이야기',\n",
       "  'bloggerlink': 'blog.naver.com/koojawongtr',\n",
       "  'postdate': '20240112'},\n",
       " {'title': '첫차 베리 뉴 티볼리 <b>케이카 구매 후기</b>',\n",
       "  'link': 'https://blog.naver.com/d__yng/223462076369',\n",
       "  'description': '남겨보는 <b>후기</b> 우선 나는 중고차 매매 단지까지 갔었으나 일말의 사건 (?) 으로 홈서비스 이용 시 3일 동안 환불이 가능하고 믿을만한 <b>케이카</b>에서만 봤다! ⭐️ 내가 정한 기준 ⭐️ 티볼리 아머 19년식 이상... ',\n",
       "  'bloggername': 'Daily life',\n",
       "  'bloggerlink': 'blog.naver.com/d__yng',\n",
       "  'postdate': '20240529'},\n",
       " {'title': '[중고차] 2번째 중고차 <b>구매후기</b> ::<b>케이카</b> 내차 사기 홈서비스... ',\n",
       "  'link': 'https://blog.naver.com/inyo1127/223525315091',\n",
       "  'description': '결국 구매는 케이카에서 했어요! &quot;내차사기&quot;에서 먼저 내가 원하는 조건을 걸어줍니당 소형차부터... 받고 문제가 있는 부분은 케이카 보험사에 요청해서 수리 받을 수 있어요! 이상 내돈내산 <b>케이카 구매후기</b> 끝!',\n",
       "  'bloggername': '= 소소한 일상 이야기 =',\n",
       "  'bloggerlink': 'blog.naver.com/inyo1127',\n",
       "  'postdate': '20240726'},\n",
       " {'title': '<b>케이카</b> 홈서비스 <b>구매</b> X 워런티 <b>후기</b>',\n",
       "  'link': 'https://blog.naver.com/fear666/223527469861',\n",
       "  'description': '지불하고 <b>케이카</b> 에서 차량을 <b>구매</b>하고 이유는 검증된 차량이기 때문이다 그렇다 하더라도 예상치 못하게 문제가 발생할 수 있기에 추가금을 들여 워런티를 적용하는 것 인데 보증 범위도 제한적이고 본인이... ',\n",
       "  'bloggername': '철없는 어른이의 블로그',\n",
       "  'bloggerlink': 'blog.naver.com/fear666',\n",
       "  'postdate': '20240727'},\n",
       " {'title': '<b>케이카</b> 중고차 홈서비스 <b>구매 후기</b> K car 워런티 보증 수리 범위',\n",
       "  'link': 'https://blog.naver.com/dsw99248/223451274252',\n",
       "  'description': '광고 아닌 찐 <b>후기</b>이다. <b>케이카 구매</b> 과정 중고차를 처음 <b>구매</b>한다면 어디서부터 알아봐야 할지 고민이 많을 거다. 보통 아래의 2가지 선택지 중에 고르는데 필자는 오히려 처음이라면 온라인으로 필터링하여... ',\n",
       "  'bloggername': '국국이네',\n",
       "  'bloggerlink': 'blog.naver.com/dsw99248',\n",
       "  'postdate': '20240519'},\n",
       " {'title': '중고차 K5 <b>케이카 구매 후기</b>',\n",
       "  'link': 'https://blog.naver.com/ggom_nyang/223455179389',\n",
       "  'description': 'K5 2016년식 중고차 <b>케이카 구매 후기</b> 안녕하세요. 꼼냥커플입니다. 용인에 이사 온 후 차가 필요하다..... K5 중고차 구매 후기 - 케이카 추천 사실 케이카는 엔카보다 조금 비싼것 같아요. 몇백까진 아니어도... ',\n",
       "  'bloggername': '꼼냥커플',\n",
       "  'bloggerlink': 'blog.naver.com/ggom_nyang',\n",
       "  'postdate': '20240522'}]"
      ]
     },
     "execution_count": 28,
     "metadata": {},
     "output_type": "execute_result"
    }
   ],
   "source": [
    "result['items']\n"
   ]
  },
  {
   "cell_type": "code",
   "execution_count": 30,
   "id": "7e930d3e-dade-4a9c-a2ba-8c080377a74b",
   "metadata": {},
   "outputs": [
    {
     "data": {
      "text/plain": [
       "10"
      ]
     },
     "execution_count": 30,
     "metadata": {},
     "output_type": "execute_result"
    }
   ],
   "source": [
    "len(result['items'])\n"
   ]
  },
  {
   "cell_type": "code",
   "execution_count": 32,
   "id": "ca078c7b-5b64-49fd-b81f-3778297b13d4",
   "metadata": {},
   "outputs": [
    {
     "data": {
      "text/plain": [
       "100"
      ]
     },
     "execution_count": 32,
     "metadata": {},
     "output_type": "execute_result"
    }
   ],
   "source": [
    "url = \"https://openapi.naver.com/v1/search/blog.json?query=케이카구매후기&display=100\"\n",
    "res = requests.get(url, headers = {\n",
    "    \"X-Naver-Client-Id\" : client_id, \n",
    "    \"X-Naver-Client-Secret\" : client_secret\n",
    "    \n",
    "}  )\n",
    "\n",
    "result = res.json()\n",
    "\n",
    "len(result['items'])\n"
   ]
  },
  {
   "cell_type": "code",
   "execution_count": 34,
   "id": "b495e5de-bf81-4245-81b0-89e411d40ee3",
   "metadata": {},
   "outputs": [],
   "source": [
    "url = \"https://openapi.naver.com/v1/search/blog.json?query=케이카구매후기&start=101&display=101\"\n",
    "res = requests.get(url, headers = {\n",
    "    \"X-Naver-Client-Id\" : client_id, \n",
    "    \"X-Naver-Client-Secret\" : client_secret\n",
    "    \n",
    "}  )"
   ]
  },
  {
   "cell_type": "code",
   "execution_count": 36,
   "id": "26c1363d-293f-4335-9d26-cb75cab2d426",
   "metadata": {},
   "outputs": [
    {
     "data": {
      "text/plain": [
       "[{'title': '<b>케이카</b> 중고차 <b>구매</b>조건 더 좋은 카머스 <b>후기</b>',\n",
       "  'link': 'https://blog.naver.com/woochulssa/223526567428',\n",
       "  'description': '남편한테도 100% 가서 봐야된다는 마음가짐으로 한 것이긴 하지만 <b>케이카</b> 중고차 홈서비스 <b>후기</b> 보고 걍 집 앞으로 탁송받자고 함. 저희는 목요일에 차를 <b>구매</b>해서 금요일에 받을수있도로 했는데 금요일이라... ',\n",
       "  'bloggername': '문명의 경향에 달관하여 미래의 추세를 점친다.',\n",
       "  'bloggerlink': 'blog.naver.com/woochulssa',\n",
       "  'postdate': '20240726'},\n",
       " {'title': '<b>케이카</b>(KCAR) 제네시스 DH(G80) <b>구매후기</b>',\n",
       "  'link': 'https://blog.naver.com/blade21/223329423795',\n",
       "  'description': '<b>케이카</b>(KCAR) <b>구매후기</b> 제네시스 DH (G80) <b>구매</b>동기 원래 사용하던 21년식 스팅어를 회사 근무지가 변경됨에 따라 한달 주행거리가 200KM가 되지 않게 되어 판매하게 되었습니다. 한달에 2번정도 주행하는데... ',\n",
       "  'bloggername': '비가와의 비오는 세상',\n",
       "  'bloggerlink': 'blog.naver.com/blade21',\n",
       "  'postdate': '20240121'},\n",
       " {'title': '<b>케이카</b> 레이 내차사기 홈서비스 <b>구매</b>방법 <b>후기</b>, 자동차보험... ',\n",
       "  'link': 'https://blog.naver.com/kjg9288/223387502735',\n",
       "  'description': 'K5 판매 후 매일매일 틈날 때마다 <b>케이카</b>에서 레이를 찾아보았다 내가 원하는 조건은 1. 가격: 1300만 원... 장착 사진 사진 예시 힘들었던 중고차 레이 <b>구매</b>... &lt;<b>구매</b>후 점검<b>후기</b>&gt; https://m.blog.naver.com/kjg9288/223402943831',\n",
       "  'bloggername': '꿀빵부부‘s life diary',\n",
       "  'bloggerlink': 'blog.naver.com/kjg9288',\n",
       "  'postdate': '20240318'},\n",
       " {'title': '<b>케이카</b>에서 중고차 <b>구매</b>, 차 두 번 바꾼 <b>후기</b>',\n",
       "  'link': 'https://blog.naver.com/topann/222805047002',\n",
       "  'description': '<b>케이카</b>에서 17년형 말리부 중고차 <b>구매 후기</b> 남겨봅니다. 중고 말리부는 작년 7월에 1470만원에 <b>구매</b>... 남편믿고 오<b>케이</b>했구요. 실행력갑인 남편은 중고차 매매상에게 바로 전화합니다. 당시 주식장이 좋았던... ',\n",
       "  'bloggername': '별안간애 부라이어티라이프',\n",
       "  'bloggerlink': 'blog.naver.com/topann',\n",
       "  'postdate': '20220709'},\n",
       " {'title': 'F30 BMW 320D LCI 중고차 <b>구매 후기</b>, KCar <b>케이카</b> 안양 직영점... ',\n",
       "  'link': 'https://blog.naver.com/koojawongtr/223320822417',\n",
       "  'description': '차를 <b>구매</b>해 봤는데 다 장단점이 있었고 <b>케이카</b>도 상당히 괜찮았습니다. 특히 중고차에 대해 두려움이... 마이바부를 통한 중고차 동행 서비스 <b>후기</b>는 아래 글 링크 보시면 됩니다. 2024. 01. 12 JW KOO',\n",
       "  'bloggername': 'KOO의 세상사는 이야기',\n",
       "  'bloggerlink': 'blog.naver.com/koojawongtr',\n",
       "  'postdate': '20240112'},\n",
       " {'title': '첫차 베리 뉴 티볼리 <b>케이카 구매 후기</b>',\n",
       "  'link': 'https://blog.naver.com/d__yng/223462076369',\n",
       "  'description': '남겨보는 <b>후기</b> 우선 나는 중고차 매매 단지까지 갔었으나 일말의 사건 (?) 으로 홈서비스 이용 시 3일 동안 환불이 가능하고 믿을만한 <b>케이카</b>에서만 봤다! ⭐️ 내가 정한 기준 ⭐️ 티볼리 아머 19년식 이상... ',\n",
       "  'bloggername': 'Daily life',\n",
       "  'bloggerlink': 'blog.naver.com/d__yng',\n",
       "  'postdate': '20240529'},\n",
       " {'title': '[중고차] 2번째 중고차 <b>구매후기</b> ::<b>케이카</b> 내차 사기 홈서비스... ',\n",
       "  'link': 'https://blog.naver.com/inyo1127/223525315091',\n",
       "  'description': '결국 구매는 케이카에서 했어요! &quot;내차사기&quot;에서 먼저 내가 원하는 조건을 걸어줍니당 소형차부터... 받고 문제가 있는 부분은 케이카 보험사에 요청해서 수리 받을 수 있어요! 이상 내돈내산 <b>케이카 구매후기</b> 끝!',\n",
       "  'bloggername': '= 소소한 일상 이야기 =',\n",
       "  'bloggerlink': 'blog.naver.com/inyo1127',\n",
       "  'postdate': '20240726'},\n",
       " {'title': '<b>케이카</b> 홈서비스 <b>구매</b> X 워런티 <b>후기</b>',\n",
       "  'link': 'https://blog.naver.com/fear666/223527469861',\n",
       "  'description': '지불하고 <b>케이카</b> 에서 차량을 <b>구매</b>하고 이유는 검증된 차량이기 때문이다 그렇다 하더라도 예상치 못하게 문제가 발생할 수 있기에 추가금을 들여 워런티를 적용하는 것 인데 보증 범위도 제한적이고 본인이... ',\n",
       "  'bloggername': '철없는 어른이의 블로그',\n",
       "  'bloggerlink': 'blog.naver.com/fear666',\n",
       "  'postdate': '20240727'},\n",
       " {'title': '<b>케이카</b> 중고차 홈서비스 <b>구매 후기</b> K car 워런티 보증 수리 범위',\n",
       "  'link': 'https://blog.naver.com/dsw99248/223451274252',\n",
       "  'description': '광고 아닌 찐 <b>후기</b>이다. <b>케이카 구매</b> 과정 중고차를 처음 <b>구매</b>한다면 어디서부터 알아봐야 할지 고민이 많을 거다. 보통 아래의 2가지 선택지 중에 고르는데 필자는 오히려 처음이라면 온라인으로 필터링하여... ',\n",
       "  'bloggername': '국국이네',\n",
       "  'bloggerlink': 'blog.naver.com/dsw99248',\n",
       "  'postdate': '20240519'},\n",
       " {'title': '중고차 K5 <b>케이카 구매 후기</b>',\n",
       "  'link': 'https://blog.naver.com/ggom_nyang/223455179389',\n",
       "  'description': 'K5 2016년식 중고차 <b>케이카 구매 후기</b> 안녕하세요. 꼼냥커플입니다. 용인에 이사 온 후 차가 필요하다..... K5 중고차 구매 후기 - 케이카 추천 사실 케이카는 엔카보다 조금 비싼것 같아요. 몇백까진 아니어도... ',\n",
       "  'bloggername': '꼼냥커플',\n",
       "  'bloggerlink': 'blog.naver.com/ggom_nyang',\n",
       "  'postdate': '20240522'}]"
      ]
     },
     "execution_count": 36,
     "metadata": {},
     "output_type": "execute_result"
    }
   ],
   "source": [
    "def call_api(query, start,display):\n",
    "    url = f\"https://openapi.naver.com/v1/search/blog.json?query={query}&start={start}&display={display}\"\n",
    "    res = requests.get(url, headers = {\n",
    "        \"X-Naver-Client-Id\" : client_id, \n",
    "        \"X-Naver-Client-Secret\" : client_secret\n",
    "\n",
    "    }  )\n",
    "    r = res.json()\n",
    "    return r\n",
    "    \n",
    "r = call_api(\"케이카구매후기\", 1 ,10)\n",
    "\n",
    "r['items']"
   ]
  },
  {
   "cell_type": "code",
   "execution_count": 46,
   "id": "cdacada3-9eec-4fca-a6b5-081d068d7173",
   "metadata": {},
   "outputs": [
    {
     "name": "stdout",
     "output_type": "stream",
     "text": [
      "API 결과가 api_result.json 파일로 저장되었습니다.\n"
     ]
    }
   ],
   "source": [
    "import json\n",
    "import requests\n",
    "\n",
    "# API 호출 함수 정의\n",
    "def call_api(query, start, display):\n",
    "    url = f\"https://openapi.naver.com/v1/search/blog.json?query={query}&start={start}&display={display}\"\n",
    "    res = requests.get(url, headers = {\n",
    "        \"X-Naver-Client-Id\" : client_id, \n",
    "        \"X-Naver-Client-Secret\" : client_secret\n",
    "    })\n",
    "    r = res.json()\n",
    "    return r\n",
    "\n",
    "# API 호출 및 결과 저장\n",
    "query = \"케이카구매후기\"\n",
    "start = 1\n",
    "display = 10\n",
    "\n",
    "r = call_api(query, start, display)\n",
    "\n",
    "# 결과를 JSON 파일로 저장\n",
    "with open('api_result.json', 'w', encoding='utf-8') as file:\n",
    "    json.dump(r['items'], file, ensure_ascii=False, indent=4)\n",
    "\n",
    "print(\"API 결과가 api_result.json 파일로 저장되었습니다.\")\n"
   ]
  },
  {
   "cell_type": "code",
   "execution_count": 48,
   "id": "252ae702-ff0b-4488-a623-720404cbbd2c",
   "metadata": {},
   "outputs": [
    {
     "name": "stdout",
     "output_type": "stream",
     "text": [
      "Requirement already satisfied: pandas in /opt/anaconda3/lib/python3.11/site-packages (2.1.4)\n",
      "Requirement already satisfied: openpyxl in /opt/anaconda3/lib/python3.11/site-packages (3.0.10)\n",
      "Requirement already satisfied: numpy<2,>=1.23.2 in /opt/anaconda3/lib/python3.11/site-packages (from pandas) (1.26.4)\n",
      "Requirement already satisfied: python-dateutil>=2.8.2 in /opt/anaconda3/lib/python3.11/site-packages (from pandas) (2.8.2)\n",
      "Requirement already satisfied: pytz>=2020.1 in /opt/anaconda3/lib/python3.11/site-packages (from pandas) (2023.3.post1)\n",
      "Requirement already satisfied: tzdata>=2022.1 in /opt/anaconda3/lib/python3.11/site-packages (from pandas) (2023.3)\n",
      "Requirement already satisfied: et_xmlfile in /opt/anaconda3/lib/python3.11/site-packages (from openpyxl) (1.1.0)\n",
      "Requirement already satisfied: six>=1.5 in /opt/anaconda3/lib/python3.11/site-packages (from python-dateutil>=2.8.2->pandas) (1.16.0)\n",
      "Note: you may need to restart the kernel to use updated packages.\n"
     ]
    }
   ],
   "source": [
    "pip install pandas openpyxl\n"
   ]
  },
  {
   "cell_type": "code",
   "execution_count": 52,
   "id": "a47f9652-f4e9-4954-8b3f-b1a2c7f3c5ae",
   "metadata": {},
   "outputs": [
    {
     "name": "stdout",
     "output_type": "stream",
     "text": [
      "API 결과가 api_result.xlsx 파일로 저장되었습니다.\n"
     ]
    }
   ],
   "source": [
    "import json\n",
    "import requests\n",
    "import pandas as pd\n",
    "\n",
    "# API 호출 함수 정의\n",
    "def call_api(query, start, display):\n",
    "    url = f\"https://openapi.naver.com/v1/search/blog.json?query={query}&start={start}&display={display}\"\n",
    "    res = requests.get(url, headers = {\n",
    "        \"X-Naver-Client-Id\" : client_id, \n",
    "        \"X-Naver-Client-Secret\" : client_secret\n",
    "    })\n",
    "    r = res.json()\n",
    "    return r\n",
    "\n",
    "# API 호출 및 결과 저장\n",
    "query = \"케이카구매후기\"\n",
    "start = 1\n",
    "display = 10\n",
    "\n",
    "r = call_api(query, start, display)\n",
    "\n",
    "# 결과를 DataFrame으로 변환\n",
    "df = pd.DataFrame(r['items'])\n",
    "\n",
    "# DataFrame을 엑셀 파일로 저장\n",
    "df.to_excel('api_result.xlsx', index=False)\n",
    "\n",
    "print(\"API 결과가 api_result.xlsx 파일로 저장되었습니다.\")\n"
   ]
  },
  {
   "cell_type": "code",
   "execution_count": 58,
   "id": "afcce7e7-271e-4789-a0f1-2422203469b5",
   "metadata": {},
   "outputs": [
    {
     "name": "stdout",
     "output_type": "stream",
     "text": [
      "블로그 본문이 blog_contents.xlsx 파일로 저장되었습니다.\n"
     ]
    }
   ],
   "source": [
    "urls = [\n",
    "    \"https://blog.naver.com/woochulssa/223526567428\",\n",
    "    \"https://blog.naver.com/blade21/223329423795\",\n",
    "    \"https://blog.naver.com/kjg9288/223387502735\",\n",
    "    \"https://blog.naver.com/topann/222805047002\",\n",
    "    \"https://blog.naver.com/koojawongtr/223320822417\",\n",
    "    \"https://blog.naver.com/d__yng/223462076369\",\n",
    "    \"https://blog.naver.com/inyo1127/223525315091\",\n",
    "    \"https://blog.naver.com/fear666/223527469861\",\n",
    "    \"https://blog.naver.com/dsw99248/223451274252\",\n",
    "    \"https://blog.naver.com/ggom_nyang/223455179389\"\n",
    "]\n",
    "import requests\n",
    "from bs4 import BeautifulSoup\n",
    "import pandas as pd\n",
    "\n",
    "def get_blog_content(url):\n",
    "    res = requests.get(url)\n",
    "    res.encoding = 'utf-8'\n",
    "    soup = BeautifulSoup(res.text, 'html.parser')\n",
    "    \n",
    "    # 블로그 본문 추출\n",
    "    content = soup.select_one('.se-main-container')\n",
    "    \n",
    "    if content:\n",
    "        return content.get_text(separator='\\n').strip()\n",
    "    else:\n",
    "        return \"본문을 찾을 수 없습니다.\"\n",
    "\n",
    "# 추출한 URL에 접근하여 본문 크롤링\n",
    "blog_contents = []\n",
    "\n",
    "for url in urls:\n",
    "    content = get_blog_content(url)\n",
    "    blog_contents.append(content)\n",
    "\n",
    "# 결과를 엑셀 파일로 저장\n",
    "df = pd.DataFrame({'URL': urls, 'Content': blog_contents})\n",
    "df.to_excel('blog_contents.xlsx', index=False)\n",
    "\n",
    "print(\"블로그 본문이 blog_contents.xlsx 파일로 저장되었습니다.\")\n"
   ]
  },
  {
   "cell_type": "code",
   "execution_count": 60,
   "id": "ccf2d202-ece6-48c3-ba50-3e15c7af5176",
   "metadata": {},
   "outputs": [
    {
     "name": "stdout",
     "output_type": "stream",
     "text": [
      "Requirement already satisfied: selenium in /opt/anaconda3/lib/python3.11/site-packages (4.23.1)\n",
      "Requirement already satisfied: webdriver-manager in /opt/anaconda3/lib/python3.11/site-packages (4.0.2)\n",
      "Requirement already satisfied: pandas in /opt/anaconda3/lib/python3.11/site-packages (2.1.4)\n",
      "Requirement already satisfied: urllib3<3,>=1.26 in /opt/anaconda3/lib/python3.11/site-packages (from urllib3[socks]<3,>=1.26->selenium) (2.0.7)\n",
      "Requirement already satisfied: trio~=0.17 in /opt/anaconda3/lib/python3.11/site-packages (from selenium) (0.26.0)\n",
      "Requirement already satisfied: trio-websocket~=0.9 in /opt/anaconda3/lib/python3.11/site-packages (from selenium) (0.11.1)\n",
      "Requirement already satisfied: certifi>=2021.10.8 in /opt/anaconda3/lib/python3.11/site-packages (from selenium) (2024.7.4)\n",
      "Requirement already satisfied: typing_extensions~=4.9 in /opt/anaconda3/lib/python3.11/site-packages (from selenium) (4.9.0)\n",
      "Requirement already satisfied: websocket-client~=1.8 in /opt/anaconda3/lib/python3.11/site-packages (from selenium) (1.8.0)\n",
      "Requirement already satisfied: requests in /opt/anaconda3/lib/python3.11/site-packages (from webdriver-manager) (2.31.0)\n",
      "Requirement already satisfied: python-dotenv in /opt/anaconda3/lib/python3.11/site-packages (from webdriver-manager) (0.21.0)\n",
      "Requirement already satisfied: packaging in /opt/anaconda3/lib/python3.11/site-packages (from webdriver-manager) (23.1)\n",
      "Requirement already satisfied: numpy<2,>=1.23.2 in /opt/anaconda3/lib/python3.11/site-packages (from pandas) (1.26.4)\n",
      "Requirement already satisfied: python-dateutil>=2.8.2 in /opt/anaconda3/lib/python3.11/site-packages (from pandas) (2.8.2)\n",
      "Requirement already satisfied: pytz>=2020.1 in /opt/anaconda3/lib/python3.11/site-packages (from pandas) (2023.3.post1)\n",
      "Requirement already satisfied: tzdata>=2022.1 in /opt/anaconda3/lib/python3.11/site-packages (from pandas) (2023.3)\n",
      "Requirement already satisfied: six>=1.5 in /opt/anaconda3/lib/python3.11/site-packages (from python-dateutil>=2.8.2->pandas) (1.16.0)\n",
      "Requirement already satisfied: attrs>=23.2.0 in /opt/anaconda3/lib/python3.11/site-packages (from trio~=0.17->selenium) (23.2.0)\n",
      "Requirement already satisfied: sortedcontainers in /opt/anaconda3/lib/python3.11/site-packages (from trio~=0.17->selenium) (2.4.0)\n",
      "Requirement already satisfied: idna in /opt/anaconda3/lib/python3.11/site-packages (from trio~=0.17->selenium) (3.4)\n",
      "Requirement already satisfied: outcome in /opt/anaconda3/lib/python3.11/site-packages (from trio~=0.17->selenium) (1.3.0.post0)\n",
      "Requirement already satisfied: sniffio>=1.3.0 in /opt/anaconda3/lib/python3.11/site-packages (from trio~=0.17->selenium) (1.3.0)\n",
      "Requirement already satisfied: wsproto>=0.14 in /opt/anaconda3/lib/python3.11/site-packages (from trio-websocket~=0.9->selenium) (1.2.0)\n",
      "Requirement already satisfied: pysocks!=1.5.7,<2.0,>=1.5.6 in /opt/anaconda3/lib/python3.11/site-packages (from urllib3[socks]<3,>=1.26->selenium) (1.7.1)\n",
      "Requirement already satisfied: charset-normalizer<4,>=2 in /opt/anaconda3/lib/python3.11/site-packages (from requests->webdriver-manager) (2.0.4)\n",
      "Requirement already satisfied: h11<1,>=0.9.0 in /opt/anaconda3/lib/python3.11/site-packages (from wsproto>=0.14->trio-websocket~=0.9->selenium) (0.14.0)\n",
      "Note: you may need to restart the kernel to use updated packages.\n"
     ]
    }
   ],
   "source": [
    "pip install selenium webdriver-manager pandas\n"
   ]
  },
  {
   "cell_type": "code",
   "execution_count": 68,
   "id": "f9a9063b-1a1b-492b-bbdc-4fc5f9a5b641",
   "metadata": {},
   "outputs": [
    {
     "name": "stdout",
     "output_type": "stream",
     "text": [
      "블로그 본문이 blog_contents.xlsx 파일로 저장되었습니다.\n"
     ]
    }
   ],
   "source": [
    "import time\n",
    "from selenium import webdriver\n",
    "from selenium.webdriver.chrome.service import Service\n",
    "from selenium.webdriver.common.by import By\n",
    "from webdriver_manager.chrome import ChromeDriverManager\n",
    "import pandas as pd\n",
    "\n",
    "# URL 리스트\n",
    "urls = [\n",
    "    \"https://blog.naver.com/woochulssa/223526567428\",\n",
    "    \"https://blog.naver.com/blade21/223329423795\",\n",
    "    \"https://blog.naver.com/kjg9288/223387502735\",\n",
    "    \"https://blog.naver.com/topann/222805047002\",\n",
    "    \"https://blog.naver.com/koojawongtr/223320822417\",\n",
    "    \"https://blog.naver.com/d__yng/223462076369\",\n",
    "    \"https://blog.naver.com/inyo1127/223525315091\",\n",
    "    \"https://blog.naver.com/fear666/223527469861\",\n",
    "    \"https://blog.naver.com/dsw99248/223451274252\",\n",
    "    \"https://blog.naver.com/ggom_nyang/223455179389\"\n",
    "]\n",
    "\n",
    "# Selenium WebDriver 설정\n",
    "options = webdriver.ChromeOptions()\n",
    "options.add_argument('--headless')  # 브라우저를 열지 않음\n",
    "options.add_argument('--no-sandbox')\n",
    "options.add_argument('--disable-dev-shm-usage')\n",
    "\n",
    "# WebDriver 초기화\n",
    "service = Service(ChromeDriverManager().install())\n",
    "driver = webdriver.Chrome(service=service, options=options)\n",
    "\n",
    "def get_blog_content(url):\n",
    "    driver.get(url)\n",
    "    time.sleep(3)  # 페이지 로딩을 기다림\n",
    "    \n",
    "    try:\n",
    "        # 동적 콘텐츠 로드 대기 및 본문 추출\n",
    "        content = driver.find_element(By.CSS_SELECTOR, '.se-main-container').text\n",
    "        return content\n",
    "    except Exception as e:\n",
    "        return f\"본문을 찾을 수 없습니다. 오류: {str(e)}\"\n",
    "\n",
    "# 추출한 URL에 접근하여 본문 크롤링\n",
    "blog_contents = []\n",
    "\n",
    "for url in urls:\n",
    "    content = get_blog_content(url)\n",
    "    blog_contents.append(content)\n",
    "\n",
    "# WebDriver 종료\n",
    "driver.quit()\n",
    "\n",
    "# 결과를 엑셀 파일로 저장\n",
    "df = pd.DataFrame({'URL': urls, 'Content': blog_contents})\n",
    "df.to_excel('blog_contents.xlsx', index=False)\n",
    "\n",
    "print(\"블로그 본문이 blog_contents.xlsx 파일로 저장되었습니다.\")\n"
   ]
  },
  {
   "cell_type": "code",
   "execution_count": 64,
   "id": "ddabd317-5f14-42b3-9e79-d99b4ccbc2ca",
   "metadata": {},
   "outputs": [],
   "source": [
    "from selenium.webdriver.support.ui import WebDriverWait\n",
    "from selenium.webdriver.support import expected_conditions as EC\n",
    "\n",
    "def get_blog_content(url):\n",
    "    driver.get(url)\n",
    "    try:\n",
    "        # 최대 10초 대기하며 특정 요소가 로드될 때까지 기다립니다.\n",
    "        WebDriverWait(driver, 10).until(\n",
    "            EC.presence_of_element_located((By.CSS_SELECTOR, '.se-main-container'))\n",
    "        )\n",
    "        content = driver.find_element(By.CSS_SELECTOR, '.se-main-container').text\n",
    "        return content\n",
    "    except Exception as e:\n",
    "        return f\"본문을 찾을 수 없습니다. 오류: {str(e)}\"\n"
   ]
  },
  {
   "cell_type": "code",
   "execution_count": 66,
   "id": "d8233cfe-d9b9-4d1e-a830-ef1ff9675176",
   "metadata": {},
   "outputs": [],
   "source": [
    "def get_blog_content(url):\n",
    "    driver.get(url)\n",
    "    time.sleep(3)\n",
    "    page_source = driver.page_source  # 전체 페이지 소스를 가져옴\n",
    "    print(page_source)  # 디버깅용으로 전체 HTML 출력\n",
    "    try:\n",
    "        content = driver.find_element(By.CSS_SELECTOR, '.se-main-container').text\n",
    "        return content\n",
    "    except Exception as e:\n",
    "        return f\"본문을 찾을 수 없습니다. 오류: {str(e)}\"\n"
   ]
  },
  {
   "cell_type": "code",
   "execution_count": 78,
   "id": "adcce39a-0266-454a-8952-cea0d2571bc8",
   "metadata": {},
   "outputs": [
    {
     "name": "stdout",
     "output_type": "stream",
     "text": [
      "블로그 본문이 blog_contents.xlsx 파일로 저장되었습니다.\n"
     ]
    }
   ],
   "source": [
    "from selenium import webdriver\n",
    "from selenium.webdriver.chrome.service import Service\n",
    "from selenium.webdriver.common.by import By\n",
    "from selenium.webdriver.support.ui import WebDriverWait\n",
    "from selenium.webdriver.support import expected_conditions as EC\n",
    "from webdriver_manager.chrome import ChromeDriverManager\n",
    "import pandas as pd\n",
    "\n",
    "# URL 리스트\n",
    "urls = [\n",
    "    \"https://blog.naver.com/woochulssa/223526567428\",\n",
    "    \"https://blog.naver.com/blade21/223329423795\",\n",
    "    \"https://blog.naver.com/kjg9288/223387502735\",\n",
    "    \"https://blog.naver.com/topann/222805047002\",\n",
    "    \"https://blog.naver.com/koojawongtr/223320822417\",\n",
    "    \"https://blog.naver.com/d__yng/223462076369\",\n",
    "    \"https://blog.naver.com/inyo1127/223525315091\",\n",
    "    \"https://blog.naver.com/fear666/223527469861\",\n",
    "    \"https://blog.naver.com/dsw99248/223451274252\",\n",
    "    \"https://blog.naver.com/ggom_nyang/223455179389\"\n",
    "]\n",
    "\n",
    "# Selenium WebDriver 설정\n",
    "options = webdriver.ChromeOptions()\n",
    "options.add_argument('--headless')  # 브라우저를 열지 않음\n",
    "options.add_argument('--no-sandbox')\n",
    "options.add_argument('--disable-dev-shm-usage')\n",
    "\n",
    "# WebDriver 초기화\n",
    "service = Service(ChromeDriverManager().install())\n",
    "driver = webdriver.Chrome(service=service, options=options)\n",
    "\n",
    "def get_blog_content(url):\n",
    "    driver.get(url)\n",
    "    \n",
    "    try:\n",
    "        # 최대 10초 대기하며 본문 요소가 로드될 때까지 기다립니다.\n",
    "        WebDriverWait(driver, 10).until(\n",
    "            EC.presence_of_element_located((By.CSS_SELECTOR, '.se-main-container'))\n",
    "        )\n",
    "        # 본문 콘텐츠를 추출합니다.\n",
    "        content = driver.find_element(By.CSS_SELECTOR, '.se-main-container').text\n",
    "        return content\n",
    "    except Exception as e:\n",
    "        return f\"본문을 찾을 수 없습니다. 오류: {str(e)}\"\n",
    "\n",
    "# 추출한 URL에 접근하여 본문 크롤링\n",
    "blog_contents = []\n",
    "\n",
    "for url in urls:\n",
    "    content = get_blog_content(url)\n",
    "    blog_contents.append(content)\n",
    "\n",
    "# WebDriver 종료\n",
    "driver.quit()\n",
    "\n",
    "# 결과를 엑셀 파일로 저장\n",
    "df = pd.DataFrame({'URL': urls, 'Content': blog_contents})\n",
    "df.to_excel('blog_contents.xlsx', index=False)\n",
    "\n",
    "print(\"블로그 본문이 blog_contents.xlsx 파일로 저장되었습니다.\")\n"
   ]
  },
  {
   "cell_type": "code",
   "execution_count": 76,
   "id": "a4774738-c520-4e2a-b78e-fee02efc3ee7",
   "metadata": {},
   "outputs": [],
   "source": [
    "def get_blog_content(url):\n",
    "    driver.get(url)\n",
    "    time.sleep(5)  # 페이지 로딩을 기다림\n",
    "    page_source = driver.page_source  # 전체 페이지 소스를 가져옴\n",
    "    print(page_source)  # 디버깅용으로 전체 HTML 출력\n",
    "    try:\n",
    "        content = driver.find_element(By.CSS_SELECTOR, '.se-main-container').text\n",
    "        return content\n",
    "    except Exception as e:\n",
    "        return f\"본문을 찾을 수 없습니다. 오류: {str(e)}\"\n"
   ]
  },
  {
   "cell_type": "code",
   "execution_count": null,
   "id": "b121b8a0-87fc-4037-8bc0-d8de5504b26f",
   "metadata": {},
   "outputs": [],
   "source": []
  }
 ],
 "metadata": {
  "kernelspec": {
   "display_name": "Python 3 (ipykernel)",
   "language": "python",
   "name": "python3"
  },
  "language_info": {
   "codemirror_mode": {
    "name": "ipython",
    "version": 3
   },
   "file_extension": ".py",
   "mimetype": "text/x-python",
   "name": "python",
   "nbconvert_exporter": "python",
   "pygments_lexer": "ipython3",
   "version": "3.11.7"
  }
 },
 "nbformat": 4,
 "nbformat_minor": 5
}
