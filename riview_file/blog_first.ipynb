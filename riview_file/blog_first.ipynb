{
 "cells": [
  {
   "cell_type": "code",
   "execution_count": 3,
   "id": "759b0270-88b3-4891-9ea9-a1816ad5f83e",
   "metadata": {},
   "outputs": [
    {
     "name": "stdout",
     "output_type": "stream",
     "text": [
      "Requirement already satisfied: tensorflow in /opt/anaconda3/lib/python3.11/site-packages (2.17.0)\n",
      "Requirement already satisfied: absl-py>=1.0.0 in /opt/anaconda3/lib/python3.11/site-packages (from tensorflow) (2.1.0)\n",
      "Requirement already satisfied: astunparse>=1.6.0 in /opt/anaconda3/lib/python3.11/site-packages (from tensorflow) (1.6.3)\n",
      "Requirement already satisfied: flatbuffers>=24.3.25 in /opt/anaconda3/lib/python3.11/site-packages (from tensorflow) (24.3.25)\n",
      "Requirement already satisfied: gast!=0.5.0,!=0.5.1,!=0.5.2,>=0.2.1 in /opt/anaconda3/lib/python3.11/site-packages (from tensorflow) (0.6.0)\n",
      "Requirement already satisfied: google-pasta>=0.1.1 in /opt/anaconda3/lib/python3.11/site-packages (from tensorflow) (0.2.0)\n",
      "Requirement already satisfied: h5py>=3.10.0 in /opt/anaconda3/lib/python3.11/site-packages (from tensorflow) (3.11.0)\n",
      "Requirement already satisfied: libclang>=13.0.0 in /opt/anaconda3/lib/python3.11/site-packages (from tensorflow) (18.1.1)\n",
      "Requirement already satisfied: ml-dtypes<0.5.0,>=0.3.1 in /opt/anaconda3/lib/python3.11/site-packages (from tensorflow) (0.4.0)\n",
      "Requirement already satisfied: opt-einsum>=2.3.2 in /opt/anaconda3/lib/python3.11/site-packages (from tensorflow) (3.3.0)\n",
      "Requirement already satisfied: packaging in /opt/anaconda3/lib/python3.11/site-packages (from tensorflow) (23.1)\n",
      "Requirement already satisfied: protobuf!=4.21.0,!=4.21.1,!=4.21.2,!=4.21.3,!=4.21.4,!=4.21.5,<5.0.0dev,>=3.20.3 in /opt/anaconda3/lib/python3.11/site-packages (from tensorflow) (3.20.3)\n",
      "Requirement already satisfied: requests<3,>=2.21.0 in /opt/anaconda3/lib/python3.11/site-packages (from tensorflow) (2.31.0)\n",
      "Requirement already satisfied: setuptools in /opt/anaconda3/lib/python3.11/site-packages (from tensorflow) (68.2.2)\n",
      "Requirement already satisfied: six>=1.12.0 in /opt/anaconda3/lib/python3.11/site-packages (from tensorflow) (1.16.0)\n",
      "Requirement already satisfied: termcolor>=1.1.0 in /opt/anaconda3/lib/python3.11/site-packages (from tensorflow) (2.4.0)\n",
      "Requirement already satisfied: typing-extensions>=3.6.6 in /opt/anaconda3/lib/python3.11/site-packages (from tensorflow) (4.9.0)\n",
      "Requirement already satisfied: wrapt>=1.11.0 in /opt/anaconda3/lib/python3.11/site-packages (from tensorflow) (1.14.1)\n",
      "Requirement already satisfied: grpcio<2.0,>=1.24.3 in /opt/anaconda3/lib/python3.11/site-packages (from tensorflow) (1.65.2)\n",
      "Requirement already satisfied: tensorboard<2.18,>=2.17 in /opt/anaconda3/lib/python3.11/site-packages (from tensorflow) (2.17.0)\n",
      "Requirement already satisfied: keras>=3.2.0 in /opt/anaconda3/lib/python3.11/site-packages (from tensorflow) (3.4.1)\n",
      "Requirement already satisfied: tensorflow-io-gcs-filesystem>=0.23.1 in /opt/anaconda3/lib/python3.11/site-packages (from tensorflow) (0.37.1)\n",
      "Requirement already satisfied: numpy<2.0.0,>=1.23.5 in /opt/anaconda3/lib/python3.11/site-packages (from tensorflow) (1.26.4)\n",
      "Requirement already satisfied: wheel<1.0,>=0.23.0 in /opt/anaconda3/lib/python3.11/site-packages (from astunparse>=1.6.0->tensorflow) (0.41.2)\n",
      "Requirement already satisfied: rich in /opt/anaconda3/lib/python3.11/site-packages (from keras>=3.2.0->tensorflow) (13.3.5)\n",
      "Requirement already satisfied: namex in /opt/anaconda3/lib/python3.11/site-packages (from keras>=3.2.0->tensorflow) (0.0.8)\n",
      "Requirement already satisfied: optree in /opt/anaconda3/lib/python3.11/site-packages (from keras>=3.2.0->tensorflow) (0.12.1)\n",
      "Requirement already satisfied: charset-normalizer<4,>=2 in /opt/anaconda3/lib/python3.11/site-packages (from requests<3,>=2.21.0->tensorflow) (2.0.4)\n",
      "Requirement already satisfied: idna<4,>=2.5 in /opt/anaconda3/lib/python3.11/site-packages (from requests<3,>=2.21.0->tensorflow) (3.4)\n",
      "Requirement already satisfied: urllib3<3,>=1.21.1 in /opt/anaconda3/lib/python3.11/site-packages (from requests<3,>=2.21.0->tensorflow) (2.0.7)\n",
      "Requirement already satisfied: certifi>=2017.4.17 in /opt/anaconda3/lib/python3.11/site-packages (from requests<3,>=2.21.0->tensorflow) (2024.7.4)\n",
      "Requirement already satisfied: markdown>=2.6.8 in /opt/anaconda3/lib/python3.11/site-packages (from tensorboard<2.18,>=2.17->tensorflow) (3.4.1)\n",
      "Requirement already satisfied: tensorboard-data-server<0.8.0,>=0.7.0 in /opt/anaconda3/lib/python3.11/site-packages (from tensorboard<2.18,>=2.17->tensorflow) (0.7.2)\n",
      "Requirement already satisfied: werkzeug>=1.0.1 in /opt/anaconda3/lib/python3.11/site-packages (from tensorboard<2.18,>=2.17->tensorflow) (2.2.3)\n",
      "Requirement already satisfied: MarkupSafe>=2.1.1 in /opt/anaconda3/lib/python3.11/site-packages (from werkzeug>=1.0.1->tensorboard<2.18,>=2.17->tensorflow) (2.1.3)\n",
      "Requirement already satisfied: markdown-it-py<3.0.0,>=2.2.0 in /opt/anaconda3/lib/python3.11/site-packages (from rich->keras>=3.2.0->tensorflow) (2.2.0)\n",
      "Requirement already satisfied: pygments<3.0.0,>=2.13.0 in /opt/anaconda3/lib/python3.11/site-packages (from rich->keras>=3.2.0->tensorflow) (2.15.1)\n",
      "Requirement already satisfied: mdurl~=0.1 in /opt/anaconda3/lib/python3.11/site-packages (from markdown-it-py<3.0.0,>=2.2.0->rich->keras>=3.2.0->tensorflow) (0.1.0)\n",
      "Note: you may need to restart the kernel to use updated packages.\n"
     ]
    }
   ],
   "source": [
    "pip install tensorflow"
   ]
  },
  {
   "cell_type": "code",
   "execution_count": 7,
   "id": "651e1cee-7345-4bef-a7f0-e287e1470f46",
   "metadata": {},
   "outputs": [
    {
     "name": "stdout",
     "output_type": "stream",
     "text": [
      "2.17.0\n"
     ]
    }
   ],
   "source": [
    "import tensorflow as tf\n",
    "print(tf.__version__)"
   ]
  },
  {
   "cell_type": "code",
   "execution_count": 10,
   "id": "8a23a187-d92d-467d-8323-5b971d58600a",
   "metadata": {},
   "outputs": [],
   "source": [
    "import pickle\n",
    "import pandas as pd\n",
    "import numpy as np\n",
    "import matplotlib.pyplot as plt\n",
    "import re\n",
    "import urllib.request\n",
    "from konlpy.tag import Okt\n",
    "from tqdm import tqdm\n",
    "from tensorflow.keras.preprocessing.text import Tokenizer\n",
    "from tensorflow.keras.preprocessing.sequence import pad_sequences"
   ]
  },
  {
   "cell_type": "code",
   "execution_count": 15,
   "id": "5caa15eb-7b1c-4460-9cb3-d2dd3445fa8b",
   "metadata": {},
   "outputs": [],
   "source": [
    "file = 'blog_raw.csv'\n",
    "df = pd.read_csv(file)"
   ]
  },
  {
   "cell_type": "code",
   "execution_count": 18,
   "id": "3ec4d456-e86a-444f-b1ec-1a4b036b7dd0",
   "metadata": {},
   "outputs": [
    {
     "name": "stdout",
     "output_type": "stream",
     "text": [
      "네이버 블로그 리뷰 개수 :  801\n"
     ]
    }
   ],
   "source": [
    "blog_text = pd.read_csv('blog_raw.csv', sep=',')\n",
    "print('네이버 블로그 리뷰 개수 : ',len(blog_text)) #리뷰 개수 출력"
   ]
  },
  {
   "cell_type": "code",
   "execution_count": 20,
   "id": "d8ea0404-e8c3-49c5-85b7-69bbcb1dc9dc",
   "metadata": {},
   "outputs": [
    {
     "data": {
      "text/html": [
       "<div>\n",
       "<style scoped>\n",
       "    .dataframe tbody tr th:only-of-type {\n",
       "        vertical-align: middle;\n",
       "    }\n",
       "\n",
       "    .dataframe tbody tr th {\n",
       "        vertical-align: top;\n",
       "    }\n",
       "\n",
       "    .dataframe thead th {\n",
       "        text-align: right;\n",
       "    }\n",
       "</style>\n",
       "<table border=\"1\" class=\"dataframe\">\n",
       "  <thead>\n",
       "    <tr style=\"text-align: right;\">\n",
       "      <th></th>\n",
       "      <th>url</th>\n",
       "      <th>nick</th>\n",
       "      <th>date</th>\n",
       "      <th>title</th>\n",
       "      <th>contents</th>\n",
       "    </tr>\n",
       "  </thead>\n",
       "  <tbody>\n",
       "    <tr>\n",
       "      <th>0</th>\n",
       "      <td>https://blog.naver.com/2lmg/223531152299</td>\n",
       "      <td>잡달구리</td>\n",
       "      <td>2024-07-31</td>\n",
       "      <td>케이카구매후기5탄</td>\n",
       "      <td>#케이카 #케이카워런티 #재생발전기\\n국산차의장점중 하나는 신속정확한 정비인거같다\\...</td>\n",
       "    </tr>\n",
       "    <tr>\n",
       "      <th>1</th>\n",
       "      <td>https://blog.naver.com/2lmg/223530515494</td>\n",
       "      <td>잡달구리</td>\n",
       "      <td>2024-07-30</td>\n",
       "      <td>케이카구매후기4탄 케이카워런티에 한계점</td>\n",
       "      <td>#케이카 #케이카워런티 #제네레이터\\n일단은 케이카에 접수하는곳에서\\n접수했을때 전...</td>\n",
       "    </tr>\n",
       "    <tr>\n",
       "      <th>2</th>\n",
       "      <td>https://blog.naver.com/sj0_0410/223530026017</td>\n",
       "      <td>지영</td>\n",
       "      <td>2024-07-30</td>\n",
       "      <td>20대 첫차구매 케이카에서 중고차 스파크 LTZ 구매 1년 후기 총비용,케이카워런티 등</td>\n",
       "      <td>안녕하세요\\n오늘은 케이카에서 첫 중고차 구매\\n경험을 포스팅하려고 합니다\\n저는 ...</td>\n",
       "    </tr>\n",
       "    <tr>\n",
       "      <th>3</th>\n",
       "      <td>https://blog.naver.com/kcar-official/223530662750</td>\n",
       "      <td>K Car 케이카</td>\n",
       "      <td>2024-07-30</td>\n",
       "      <td>집 앞까지 K5하이브리드 배송해 주는 케이카 홈서비스 굿! 중고차구매 편해서 좋았어요.</td>\n",
       "      <td>🚗소* 님의 후기 전문 보러 가기🚗\\n평소에 차를 정말 구매하고 싶었는데요.\\n중고...</td>\n",
       "    </tr>\n",
       "    <tr>\n",
       "      <th>4</th>\n",
       "      <td>https://blog.naver.com/2lmg/223529372421</td>\n",
       "      <td>잡달구리</td>\n",
       "      <td>2024-07-29</td>\n",
       "      <td>케이카 구매후기 3탄</td>\n",
       "      <td>#케이카 #케이카워런티 #그랜저hg\\n일단 차량구매하고 나서 한달정도 2000킬로미...</td>\n",
       "    </tr>\n",
       "  </tbody>\n",
       "</table>\n",
       "</div>"
      ],
      "text/plain": [
       "                                                 url       nick        date  \\\n",
       "0           https://blog.naver.com/2lmg/223531152299       잡달구리  2024-07-31   \n",
       "1           https://blog.naver.com/2lmg/223530515494       잡달구리  2024-07-30   \n",
       "2       https://blog.naver.com/sj0_0410/223530026017         지영  2024-07-30   \n",
       "3  https://blog.naver.com/kcar-official/223530662750  K Car 케이카  2024-07-30   \n",
       "4           https://blog.naver.com/2lmg/223529372421       잡달구리  2024-07-29   \n",
       "\n",
       "                                              title  \\\n",
       "0                                         케이카구매후기5탄   \n",
       "1                             케이카구매후기4탄 케이카워런티에 한계점   \n",
       "2  20대 첫차구매 케이카에서 중고차 스파크 LTZ 구매 1년 후기 총비용,케이카워런티 등   \n",
       "3  집 앞까지 K5하이브리드 배송해 주는 케이카 홈서비스 굿! 중고차구매 편해서 좋았어요.   \n",
       "4                                       케이카 구매후기 3탄   \n",
       "\n",
       "                                            contents  \n",
       "0  #케이카 #케이카워런티 #재생발전기\\n국산차의장점중 하나는 신속정확한 정비인거같다\\...  \n",
       "1  #케이카 #케이카워런티 #제네레이터\\n일단은 케이카에 접수하는곳에서\\n접수했을때 전...  \n",
       "2  안녕하세요\\n오늘은 케이카에서 첫 중고차 구매\\n경험을 포스팅하려고 합니다\\n저는 ...  \n",
       "3  🚗소* 님의 후기 전문 보러 가기🚗\\n평소에 차를 정말 구매하고 싶었는데요.\\n중고...  \n",
       "4  #케이카 #케이카워런티 #그랜저hg\\n일단 차량구매하고 나서 한달정도 2000킬로미...  "
      ]
     },
     "execution_count": 20,
     "metadata": {},
     "output_type": "execute_result"
    }
   ],
   "source": [
    "blog_text.head()"
   ]
  },
  {
   "cell_type": "code",
   "execution_count": 22,
   "id": "1ee6b5af-1d20-4b61-bb0a-a822409e4d65",
   "metadata": {},
   "outputs": [
    {
     "name": "stdout",
     "output_type": "stream",
     "text": [
      "Requirement already satisfied: emoji in /opt/anaconda3/lib/python3.11/site-packages (2.12.1)\n",
      "Requirement already satisfied: typing-extensions>=4.7.0 in /opt/anaconda3/lib/python3.11/site-packages (from emoji) (4.9.0)\n",
      "Note: you may need to restart the kernel to use updated packages.\n"
     ]
    }
   ],
   "source": [
    "pip install emoji"
   ]
  },
  {
   "cell_type": "code",
   "execution_count": 32,
   "id": "d9e0e85f-8a46-4c0c-a269-e439f81814db",
   "metadata": {},
   "outputs": [
    {
     "name": "stdout",
     "output_type": "stream",
     "text": [
      "이모지가 제거된 블로그 리뷰를 'blog_no_emojis.csv' 파일로 저장했습니다.\n"
     ]
    }
   ],
   "source": [
    "import emoji\n",
    "import pandas as pd\n",
    "\n",
    "# CSV 파일 읽기\n",
    "df = pd.read_csv('blog_raw.csv')\n",
    "\n",
    "# 이모지 제거 함수 정의\n",
    "def remove_emojis(title):\n",
    "    return emoji.replace_emoji(title, replace='')\n",
    "\n",
    "# 이모지 제거 함수 정의-2\n",
    "def remove_emojis(contents):\n",
    "    return emoji.replace_emoji(contents, replace='')\n",
    "\n",
    "# 특수문자 제거 함수 정의\n",
    "def remove_special_characters(title):\n",
    "    return re.sub(r'[\\^~!.,?♡‥/-_*o()✿◡‿◡]', '', title)\n",
    "\n",
    "# 특수문자 제거 함수 정의-2\n",
    "def remove_special_characters(contents):\n",
    "    return re.sub(r'[\\^~!.,?♡‥/-_*o()✿◡‿◡]', '', contents)\n",
    "\n",
    "# 텍스트 제거 함수 정의\n",
    "def remove_specific_chars(title):\n",
    "    return re.sub(r'[ㅡㅜㅠㅎㅋ]', '', title)\n",
    "\n",
    "# 텍스트 제거 함수 정의-2\n",
    "def remove_specific_chars(contents):\n",
    "    return re.sub(r'[ㅡㅜㅠㅎㅋ]', '', contents)\n",
    "\n",
    "# 텍스트 제거 함수 정의-3\n",
    "def remove_specific_chars(contents):\n",
    "    return re.sub(r'[재생, 좋아요]', '', contents)\n",
    "\n",
    "# 'title' 열에서 이모지 제거\n",
    "df['title'] = df['title'].apply(remove_emojis)\n",
    "\n",
    "# 'title' 열에서 특수문자 제거\n",
    "df['title'] = df['title'].apply(remove_special_characters)\n",
    "\n",
    "# 'title' 열에서 'ㅜㅜ', 'ㅡㅡ' 텍스트 제거\n",
    "df['title'] = df['title'].apply(remove_specific_chars)\n",
    "\n",
    "# 'contents' 열에서 이모지 제거\n",
    "df['contents'] = df['contents'].apply(remove_emojis)\n",
    "\n",
    "# 'contents' 열에서 특수문자 제거\n",
    "df['contents'] = df['contents'].apply(remove_special_characters)\n",
    "\n",
    "# 'contents' 열에서 'ㅜㅜ', 'ㅡㅡ' 텍스트 제거\n",
    "df['contents'] = df['contents'].apply(remove_specific_chars)\n",
    "\n",
    "# 'contents' 열에서 재생, 좋아요 텍스트 제거\n",
    "df['contents'] = df['contents'].apply(remove_specific_chars)\n",
    "\n",
    "# 결과 저장\n",
    "df.to_csv('blog_no_emojis.csv', index=False)\n",
    "\n",
    "print(\"이모지가 제거된 블로그 리뷰를 'blog_no_emojis.csv' 파일로 저장했습니다.\")"
   ]
  },
  {
   "cell_type": "code",
   "execution_count": 34,
   "id": "28e7f674-633e-45bd-a6f4-d14d1ab909db",
   "metadata": {},
   "outputs": [
    {
     "name": "stdout",
     "output_type": "stream",
     "text": [
      "전처리된 블로그 리뷰를 'blog_number.csv' 파일로 저장했습니다.\n"
     ]
    }
   ],
   "source": [
    "import emoji\n",
    "import pandas as pd\n",
    "import re\n",
    "\n",
    "# CSV 파일 읽기\n",
    "df = pd.read_csv('blog_raw.csv')\n",
    "\n",
    "# 이모지 제거 함수 정의\n",
    "def remove_emojis(text):\n",
    "    return emoji.replace_emoji(text, replace='')\n",
    "\n",
    "# 특수문자 제거 함수 정의 (숫자 유지)\n",
    "def remove_special_characters(text):\n",
    "    return re.sub(r'[^\\w\\s0-9가-힣]', '', text)\n",
    "\n",
    "# 특정 텍스트 제거 함수 정의\n",
    "def remove_specific_chars(text):\n",
    "    return re.sub(r'[ㅡㅜㅠㅎㅋ]', '', text)\n",
    "\n",
    "# '재생', '좋아요' 텍스트 제거 함수 정의\n",
    "def remove_specific_words(text):\n",
    "    return re.sub(r'재생|좋아요', '', text)\n",
    "\n",
    "# 전처리 함수 적용\n",
    "for column in ['title', 'contents']:\n",
    "    df[column] = df[column].apply(remove_emojis)\n",
    "    df[column] = df[column].apply(remove_special_characters)\n",
    "    df[column] = df[column].apply(remove_specific_chars)\n",
    "    df[column] = df[column].apply(remove_specific_words)\n",
    "\n",
    "# 결과 저장\n",
    "df.to_csv('blog_number.csv', index=False)\n",
    "\n",
    "print(\"전처리된 블로그 리뷰를 'blog_number.csv' 파일로 저장했습니다.\")\n"
   ]
  },
  {
   "cell_type": "code",
   "execution_count": null,
   "id": "4c819128-ba5b-4b93-89c1-a5c52f95268a",
   "metadata": {},
   "outputs": [],
   "source": []
  }
 ],
 "metadata": {
  "kernelspec": {
   "display_name": "Python 3 (ipykernel)",
   "language": "python",
   "name": "python3"
  },
  "language_info": {
   "codemirror_mode": {
    "name": "ipython",
    "version": 3
   },
   "file_extension": ".py",
   "mimetype": "text/x-python",
   "name": "python",
   "nbconvert_exporter": "python",
   "pygments_lexer": "ipython3",
   "version": "3.11.7"
  }
 },
 "nbformat": 4,
 "nbformat_minor": 5
}
