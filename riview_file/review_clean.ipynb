{
 "cells": [
  {
   "cell_type": "code",
   "execution_count": 8,
   "id": "26936149-c220-4999-a7f7-702d2d0d2305",
   "metadata": {},
   "outputs": [
    {
     "name": "stdout",
     "output_type": "stream",
     "text": [
      "                                 reviewId anonymized_user  score  \\\n",
      "11   3f405030-f373-4e00-a4ae-c9548bab4a7f           사용자12      5   \n",
      "13   7951a8c0-679a-49fe-a2f5-409657054c31           사용자14      4   \n",
      "30   75102d6f-ba80-4b24-8a57-52160f56b824           사용자31      1   \n",
      "40   37247559-5095-437d-b4b4-75a9a7ae1143           사용자41      1   \n",
      "117  3f4a425a-0f3c-43aa-a12e-f2183c81e3b0          사용자118      5   \n",
      "\n",
      "                              content                   at  \n",
      "11                          카니발 하이리무진  2024-06-04 08:17:10  \n",
      "13                      좋습니다 하여간 좋습니다  2024-05-28 18:54:34  \n",
      "30                      수리잘 안해줍니다 비추천  2024-04-23 10:41:12  \n",
      "40   차량을 검색하려하면 검색도안돼고 멈춰있는데 검색하기싫게한다  2024-03-23 18:42:28  \n",
      "117                 살펴보기도 편하고 빨라서 좋아요  2024-03-13 17:39:42  \n",
      "Cleaned data saved to: cleaned.csv\n"
     ]
    }
   ],
   "source": [
    "import pandas as pd\n",
    "import re\n",
    "\n",
    "# 데이터 불러오기\n",
    "file_path = 'google_play_reviews.csv'\n",
    "df = pd.read_csv(file_path)\n",
    "\n",
    "# 리뷰 내용이 공백이거나 길이가 너무 짧은 (예: 5글자 이하) 행 제거\n",
    "df = df[df['content'].str.strip() != '']  # 공백 제거\n",
    "df = df[df['content'].str.len() > 5]  # 길이가 5 이하인 리뷰 제거\n",
    "\n",
    "# 정규표현식을 사용하여 무의미한 패턴 제거\n",
    "def is_meaningful(text):\n",
    "    # 무의미한 패턴 정의 (예: 반복되는 글자, 비정상적인 문자열)\n",
    "    meaningless_patterns = [\n",
    "        r'(.)\\1{2,}',  # 동일 문자 3회 이상 반복\n",
    "        r'[ㄱㄷ-ㅎㅏ-ㅣ]{1,}',  # 한글 자음 모음 반복\n",
    "        r'[^\\w\\s]',  # 특수 문자\n",
    "        r'\\b\\w{1,2}\\b'  # 1~2글자 단어\n",
    "    ]\n",
    "    for pattern in meaningless_patterns:\n",
    "        if re.search(pattern, text):\n",
    "            return False\n",
    "    return True\n",
    "\n",
    "df = df[df['content'].apply(is_meaningful)]\n",
    "\n",
    "# 결과를 새로운 파일에 저장\n",
    "cleaned_file_path = 'cleaned.csv'\n",
    "df.to_csv(cleaned_file_path, index=False)\n",
    "\n",
    "print(df.head())\n",
    "print(\"Cleaned data saved to:\", cleaned_file_path)\n"
   ]
  },
  {
   "cell_type": "code",
   "execution_count": 10,
   "id": "4335121c-7964-4e56-969f-9a54bfe58ec5",
   "metadata": {},
   "outputs": [
    {
     "name": "stdout",
     "output_type": "stream",
     "text": [
      "                                reviewId anonymized_user  score  \\\n",
      "3   b7295651-3275-48e2-99a6-fc79e0ec9235            사용자4      4   \n",
      "11  3f405030-f373-4e00-a4ae-c9548bab4a7f           사용자12      5   \n",
      "13  7951a8c0-679a-49fe-a2f5-409657054c31           사용자14      4   \n",
      "30  75102d6f-ba80-4b24-8a57-52160f56b824           사용자31      1   \n",
      "40  37247559-5095-437d-b4b4-75a9a7ae1143           사용자41      1   \n",
      "\n",
      "                             content                   at  \n",
      "3                접속장애가 계속되는 사유가 뭘까요?  2024-07-12 10:38:21  \n",
      "11                         카니발 하이리무진  2024-06-04 08:17:10  \n",
      "13                     좋습니다 하여간 좋습니다  2024-05-28 18:54:34  \n",
      "30                     수리잘 안해줍니다 비추천  2024-04-23 10:41:12  \n",
      "40  차량을 검색하려하면 검색도안돼고 멈춰있는데 검색하기싫게한다  2024-03-23 18:42:28  \n",
      "Cleaned data saved to: cleaned_google.csv\n"
     ]
    }
   ],
   "source": [
    "import pandas as pd\n",
    "import re\n",
    "\n",
    "# 데이터 불러오기\n",
    "file_path = 'google_play_reviews.csv'\n",
    "df = pd.read_csv(file_path)\n",
    "\n",
    "# 리뷰 내용이 공백이거나 길이가 너무 짧은 (예: 5글자 이하) 행 제거\n",
    "df = df[df['content'].str.strip() != '']  # 공백 제거\n",
    "df = df[df['content'].str.len() > 5]  # 길이가 5 이하인 리뷰 제거\n",
    "\n",
    "# 정규표현식을 사용하여 무의미한 패턴 제거\n",
    "def is_meaningful(text):\n",
    "    # 무의미한 패턴 정의 (예: 반복되는 글자, 비정상적인 문자열)\n",
    "    meaningless_patterns = [\n",
    "        r'(.)\\1{4,}',  # 동일 문자 5회 이상 반복\n",
    "        r'[ㄱ-ㅎㅏ-ㅣ]{3,}',  # 한글 자음 모음 3회 반복\n",
    "        r'[^\\w\\s]{3,}',  # 특수 문자 3회 이상 반복\n",
    "        r'\\b\\w{1,2}\\b'  # 1~2글자 단어\n",
    "    ]\n",
    "    for pattern in meaningless_patterns:\n",
    "        if re.search(pattern, text):\n",
    "            return False\n",
    "    return True\n",
    "\n",
    "df = df[df['content'].apply(is_meaningful)]\n",
    "\n",
    "# 결과를 새로운 파일에 저장\n",
    "cleaned_file_path = 'cleaned_google.csv'\n",
    "df.to_csv(cleaned_file_path, index=False)\n",
    "\n",
    "print(df.head())\n",
    "print(\"Cleaned data saved to:\", cleaned_file_path)\n"
   ]
  },
  {
   "cell_type": "code",
   "execution_count": 18,
   "id": "4225ba29-bb75-4a68-892f-414735a5e098",
   "metadata": {},
   "outputs": [
    {
     "name": "stdout",
     "output_type": "stream",
     "text": [
      "처리된 리뷰 수: 4348\n"
     ]
    }
   ],
   "source": [
    "import pandas as pd\n",
    "import re\n",
    "from datetime import datetime\n",
    "\n",
    "# CSV 파일 읽기\n",
    "df = pd.read_csv('google_play_reviews.csv')\n",
    "\n",
    "# 날짜를 datetime 객체로 변환\n",
    "df['at'] = pd.to_datetime(df['at'])\n",
    "\n",
    "# 2018년 11월 1일부터 현재까지의 데이터만 필터링\n",
    "start_date = datetime(2018, 11, 1)\n",
    "df = df[df['at'] >= start_date]\n",
    "\n",
    "# 자음 모음만 있는 패턴 정의\n",
    "hangul_pattern = re.compile(r'^[ㄱ-ㅎㅏ-ㅣ\\s]+$')\n",
    "\n",
    "# 내용이 비어있거나 자음 모음만 있는 행 제거\n",
    "df = df[df['content'].notna() & ~df['content'].astype(str).apply(lambda x: hangul_pattern.match(x) is not None)]\n",
    "\n",
    "# 중복된 내용 제거\n",
    "df = df.drop_duplicates(subset=['content'])\n",
    "\n",
    "# 결과를 새 CSV 파일로 저장\n",
    "df.to_csv('processed_reviews.csv', index=False)\n",
    "\n",
    "print(f\"처리된 리뷰 수: {len(df)}\")"
   ]
  },
  {
   "cell_type": "code",
   "execution_count": 20,
   "id": "1dd1afec-6361-4ee5-9cd6-8222f11210c3",
   "metadata": {},
   "outputs": [
    {
     "name": "stdout",
     "output_type": "stream",
     "text": [
      "처리된 리뷰 수: 4348\n"
     ]
    }
   ],
   "source": [
    "import pandas as pd\n",
    "import re\n",
    "from datetime import datetime\n",
    "\n",
    "# CSV 파일 읽기\n",
    "df = pd.read_csv('google_play_reviews.csv')\n",
    "\n",
    "# 'at' 열을 datetime 객체로 변환 (형식 확인 후 수정 가능)\n",
    "df['at'] = pd.to_datetime(df['at'], errors='coerce')\n",
    "\n",
    "# 2018년 11월 1일부터 현재까지의 데이터만 필터링\n",
    "start_date = datetime(2018, 11, 1)\n",
    "df = df[df['at'] >= start_date]\n",
    "\n",
    "# 자음 모음만 있는 패턴 정의\n",
    "hangul_pattern = re.compile(r'^[ㄱ-ㅎㅏ-ㅣ\\s]+$')\n",
    "\n",
    "# 내용이 비어있거나 자음 모음만 있는 행 제거\n",
    "df = df[df['content'].notna() & ~df['content'].astype(str).apply(lambda x: hangul_pattern.match(x) is not None)]\n",
    "\n",
    "# 중복된 내용 제거\n",
    "df = df.drop_duplicates(subset=['content'])\n",
    "\n",
    "# 결과를 새 CSV 파일로 저장\n",
    "df.to_csv('processed_reviews.csv', index=False)\n",
    "\n",
    "print(f\"처리된 리뷰 수: {len(df)}\")"
   ]
  },
  {
   "cell_type": "code",
   "execution_count": 9,
   "id": "c4f5748a-7fe5-4a00-be5e-905c160416dd",
   "metadata": {},
   "outputs": [
    {
     "name": "stdout",
     "output_type": "stream",
     "text": [
      "                               reviewId anonymized_user  score  \\\n",
      "0  f3bc27b7-13c4-4fcb-8f6e-cdfea0c682da            사용자1      3   \n",
      "1  96fe465e-58e4-48f3-a93d-1cc6daf6e06e            사용자2      5   \n",
      "2  13be613c-06de-4312-9603-7acd9e7f1683            사용자3      1   \n",
      "3  b7295651-3275-48e2-99a6-fc79e0ec9235            사용자4      4   \n",
      "4  d7c4a960-758e-4887-934f-ab9177b034c7            사용자5      1   \n",
      "\n",
      "                    content                   at                date  \n",
      "0   위클리특가 탭하면 왜 링크 에러나는건가요?  2024-07-26 17:47:13 2024-07-26 17:47:13  \n",
      "1                         굿  2024-07-26 07:17:58 2024-07-26 07:17:58  \n",
      "2                   차 겁나 없음  2024-07-23 22:08:11 2024-07-23 22:08:11  \n",
      "3       접속장애가 계속되는 사유가 뭘까요?  2024-07-12 10:38:21 2024-07-12 10:38:21  \n",
      "4  로딩이 너무 오래 걸려요 엔카랑 비교돼요ㅜㅜ  2024-07-07 12:39:15 2024-07-07 12:39:15  \n",
      "Cleaned data saved to: clean2018.csv\n"
     ]
    }
   ],
   "source": [
    "import pandas as pd\n",
    "import re\n",
    "from datetime import datetime\n",
    "\n",
    "# 데이터 불러오기\n",
    "file_path = 'google_play_reviews.csv'\n",
    "df = pd.read_csv(file_path)\n",
    "\n",
    "# 날짜 필터링을 위한 날짜 형식 변환\n",
    "df['date'] = pd.to_datetime(df['at'])\n",
    "\n",
    "# 2018년 11월부터 현재까지의 데이터만 선택\n",
    "start_date = '2018-11-01'\n",
    "df = df[df['at'] >= start_date]\n",
    "\n",
    "# 결과를 새로운 파일에 저장\n",
    "cleaned_file_path = 'clean2018.csv'\n",
    "df.to_csv(cleaned_file_path, index=False)\n",
    "\n",
    "print(df.head())\n",
    "print(\"Cleaned data saved to:\", cleaned_file_path)\n"
   ]
  },
  {
   "cell_type": "code",
   "execution_count": 50,
   "id": "efa77f0b-2248-4dc0-8705-3f2d4c0919a6",
   "metadata": {},
   "outputs": [
    {
     "name": "stdout",
     "output_type": "stream",
     "text": [
      "Requirement already satisfied: openpyxl in /opt/anaconda3/lib/python3.11/site-packages (3.0.10)\n",
      "Requirement already satisfied: et_xmlfile in /opt/anaconda3/lib/python3.11/site-packages (from openpyxl) (1.1.0)\n",
      "Note: you may need to restart the kernel to use updated packages.\n"
     ]
    }
   ],
   "source": [
    "pip install openpyxl\n"
   ]
  },
  {
   "cell_type": "code",
   "execution_count": 52,
   "id": "8cc1d682-6495-4434-8249-ffc1b5eb5579",
   "metadata": {},
   "outputs": [
    {
     "name": "stdout",
     "output_type": "stream",
     "text": [
      "                                reviewId anonymized_user  score  \\\n",
      "3   b7295651-3275-48e2-99a6-fc79e0ec9235            사용자4      4   \n",
      "11  3f405030-f373-4e00-a4ae-c9548bab4a7f           사용자12      5   \n",
      "13  7951a8c0-679a-49fe-a2f5-409657054c31           사용자14      4   \n",
      "30  75102d6f-ba80-4b24-8a57-52160f56b824           사용자31      1   \n",
      "40  37247559-5095-437d-b4b4-75a9a7ae1143           사용자41      1   \n",
      "\n",
      "                             content                   at                date  \n",
      "3                접속장애가 계속되는 사유가 뭘까요?  2024-07-12 10:38:21 2024-07-12 10:38:21  \n",
      "11                         카니발 하이리무진  2024-06-04 08:17:10 2024-06-04 08:17:10  \n",
      "13                     좋습니다 하여간 좋습니다  2024-05-28 18:54:34 2024-05-28 18:54:34  \n",
      "30                     수리잘 안해줍니다 비추천  2024-04-23 10:41:12 2024-04-23 10:41:12  \n",
      "40  차량을 검색하려하면 검색도안돼고 멈춰있는데 검색하기싫게한다  2024-03-23 18:42:28 2024-03-23 18:42:28  \n",
      "Cleaned data saved to: last_clean.xlsx\n"
     ]
    }
   ],
   "source": [
    "import pandas as pd\n",
    "import re\n",
    "from datetime import datetime\n",
    "\n",
    "# 데이터 불러오기\n",
    "file_path = 'google_play_reviews.csv'\n",
    "df = pd.read_csv(file_path)\n",
    "\n",
    "# 날짜 필터링을 위한 날짜 형식 변환\n",
    "df['date'] = pd.to_datetime(df['at'])\n",
    "\n",
    "# 2018년 11월부터 현재까지의 데이터만 선택\n",
    "start_date = '2018-11-01'\n",
    "df = df[df['at'] >= start_date]\n",
    "\n",
    "# 리뷰 내용이 공백이거나 길이가 너무 짧은 (예: 3글자 이하) 행 제거\n",
    "df = df[df['content'].str.strip() != '']  # 공백 제거\n",
    "df = df[df['content'].str.len() > 3]  # 길이가 3 이하인 리뷰 제거\n",
    "\n",
    "# 정규표현식을 사용하여 무의미한 패턴 제거\n",
    "def is_meaningful(text):\n",
    "    # 무의미한 패턴 정의 (예: 반복되는 글자, 비정상적인 문자열)\n",
    "    meaningless_patterns = [\n",
    "        r'(.)\\1{5,}',  # 동일 문자 6회 이상 반복\n",
    "        r'[ㄱ-ㅎㅏ-ㅣ]{3,}',  # 한글 자음 모음 4회 반복\n",
    "        r'[^\\w\\s]{4,}',  # 특수 문자 4회 이상 반복\n",
    "        r'\\b\\w{1,2}\\b'  # 1~2글자 단어\n",
    "    ]\n",
    "    for pattern in meaningless_patterns:\n",
    "        if re.search(pattern, text):\n",
    "            return False\n",
    "    return True\n",
    "\n",
    "df = df[df['content'].apply(is_meaningful)]\n",
    "\n",
    "# 결과를 새로운 Excel 파일에 저장\n",
    "cleaned_file_path = 'last_clean.xlsx'\n",
    "df.to_excel(cleaned_file_path, index=False, engine='openpyxl')\n",
    "\n",
    "print(df.head())\n",
    "print(\"Cleaned data saved to:\", cleaned_file_path)\n"
   ]
  },
  {
   "cell_type": "code",
   "execution_count": null,
   "id": "a5356d54-c89e-4ed1-aa6f-72061cf3c789",
   "metadata": {},
   "outputs": [],
   "source": []
  }
 ],
 "metadata": {
  "kernelspec": {
   "display_name": "Python 3 (ipykernel)",
   "language": "python",
   "name": "python3"
  },
  "language_info": {
   "codemirror_mode": {
    "name": "ipython",
    "version": 3
   },
   "file_extension": ".py",
   "mimetype": "text/x-python",
   "name": "python",
   "nbconvert_exporter": "python",
   "pygments_lexer": "ipython3",
   "version": "3.11.7"
  }
 },
 "nbformat": 4,
 "nbformat_minor": 5
}
